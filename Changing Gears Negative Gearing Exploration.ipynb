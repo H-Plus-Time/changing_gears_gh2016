{
 "cells": [
  {
   "cell_type": "code",
   "execution_count": 1,
   "metadata": {
    "collapsed": false
   },
   "outputs": [
    {
     "name": "stdout",
     "output_type": "stream",
     "text": [
      "Populating the interactive namespace from numpy and matplotlib\n"
     ]
    },
    {
     "data": {
      "text/html": [
       "<script>requirejs.config({paths: { 'plotly': ['https://cdn.plot.ly/plotly-latest.min']},});if(!window.Plotly) {{require(['plotly'],function(plotly) {window.Plotly=plotly;});}}</script>"
      ],
      "text/plain": [
       "<IPython.core.display.HTML object>"
      ]
     },
     "metadata": {},
     "output_type": "display_data"
    }
   ],
   "source": [
    "%pylab inline\n",
    "import pandas as pd\n",
    "import plotly.plotly as py\n",
    "from plotly.graph_objs import *\n",
    "import plotly.tools as tls\n",
    "from plotly.offline import download_plotlyjs, init_notebook_mode, plot, iplot\n",
    "\n",
    "init_notebook_mode(connected=True)\n",
    "from changing_gears import *"
   ]
  },
  {
   "cell_type": "code",
   "execution_count": 2,
   "metadata": {
    "collapsed": false
   },
   "outputs": [
    {
     "name": "stdout",
     "output_type": "stream",
     "text": [
      "    category  X0     female       male\n",
      "0          1   0  16.939329  10.732698\n",
      "1          2   0  15.020323   9.657919\n",
      "2          3   0  10.280858   8.753366\n",
      "3          4   0  10.062605   8.586660\n",
      "4          5   0   9.431453   7.437071\n",
      "5          6   0   8.584404   7.477243\n",
      "6          7   0   8.539403   7.036689\n",
      "7          8   0   8.494827   6.731626\n",
      "8          9   0   8.595823   7.199932\n",
      "9         10   0   7.931574   7.010339\n",
      "10        11   0   7.823013   8.175753\n",
      "    category  X0     female       male\n",
      "0          1   0  16.939329  10.732698\n",
      "1          2   0  15.020323   9.657919\n",
      "2          3   0  10.280858   8.753366\n",
      "3          4   0  10.062605   8.586660\n",
      "4          5   0   9.431453   7.437071\n",
      "5          6   0   8.584404   7.477243\n",
      "6          7   0   8.539403   7.036689\n",
      "7          8   0   8.494827   6.731626\n",
      "8          9   0   8.595823   7.199932\n",
      "9         10   0   7.931574   7.010339\n",
      "10        11   0   7.823013   8.175753\n"
     ]
    }
   ],
   "source": [
    "with open(\"/media/removable/vfat-store/neg_age.csv\", \"r\") as f:\n",
    "    df = pd.read_csv(f)\n",
    "#     print(df)\n",
    "    \n",
    "with open(\"/media/removable/vfat-store/medrat2014.csv\", \"r\") as f:\n",
    "    df2 = pd.read_csv(f)\n",
    "    print(df2)\n",
    "    print(df2)"
   ]
  },
  {
   "cell_type": "code",
   "execution_count": 2,
   "metadata": {
    "collapsed": false
   },
   "outputs": [
    {
     "data": {
      "text/html": [
       "<div id=\"1c41ba9a-38f1-4961-8069-528421c1ec2b\" style=\"height: 525px; width: 100%;\" class=\"plotly-graph-div\"></div><script type=\"text/javascript\">require([\"plotly\"], function(Plotly) { window.PLOTLYENV=window.PLOTLYENV || {};window.PLOTLYENV.BASE_URL=\"https://plot.ly\";Plotly.newPlot(\"1c41ba9a-38f1-4961-8069-528421c1ec2b\", [{\"y\": [10.732698015935, 9.6579191230111, 8.753365511814799, 8.58666011542079, 7.4370709382151, 7.47724286576465, 7.03668905905012, 6.73162613257656, 7.19993163269666, 7.010339293565731, 8.17575291876896], \"mode\": \"markers\", \"marker\": {\"color\": \"blue\"}, \"x\": [\"70 and over\", \"65-69\", \"60-65\", \"55-59\", \"50-55\", \"45-49\", \"40-44\", \"35-39\", \"30-34\", \"24-29\"], \"type\": \"scatter\", \"name\": \"Male\"}, {\"y\": [16.939329327389, 15.020322699525199, 10.2808575553679, 10.062604977859198, 9.431452953563118, 8.584403829116809, 8.5394028417805, 8.49482655641695, 8.595823474951139, 7.93157352470956, 7.82301293508165], \"mode\": \"markers\", \"marker\": {\"color\": \"magenta\"}, \"x\": [\"70 and over\", \"65-69\", \"60-65\", \"55-59\", \"50-55\", \"45-49\", \"40-44\", \"35-39\", \"30-34\", \"24-29\"], \"type\": \"scatter\", \"name\": \"Female\"}], {\"title\": \"Negative Gearing by Age and Gender\", \"xaxis\": {\"gridwidth\": 1, \"title\": \"Age\", \"autorange\": \"reversed\"}, \"yaxis\": {\"title\": \"Asset percentage of salary and wages\"}}, {\"linkText\": \"Export to plot.ly\", \"showLink\": true})});</script>"
      ],
      "text/plain": [
       "<IPython.core.display.HTML object>"
      ]
     },
     "metadata": {},
     "output_type": "display_data"
    }
   ],
   "source": [
    "\n",
    "\n",
    "data_coll = []\n",
    "data_coll, layout = generate_age_gender_plot([\"medrat2014.csv\"])\n",
    "\n",
    "\n",
    "iplot({'data': data_coll, 'layout': layout}, filename=\"gearing_percent_vs_age_per_gender\")"
   ]
  },
  {
   "cell_type": "code",
   "execution_count": 108,
   "metadata": {
    "collapsed": false
   },
   "outputs": [
    {
     "name": "stdout",
     "output_type": "stream",
     "text": [
      "[['category', 'X0', 'female', 'male'], ['1', '0', 9.27501135597537, 44.6064542878861], ['2', '0', 24.474613454261, 15.238998932511], ['3', '0', 14.4753214433845, 13.9587394462257], ['4', '0', 16.4811664641555, 13.537023352073598], ['5', '0', 14.461050346497501, 12.959787526344298], ['6', '0', 14.0454662508998, 11.5805658018167], ['7', '0', 14.342870492982602, 12.1546351391447], ['8', '0', 13.4738888265859, 11.6584266651285], ['9', '0', 14.141636571831201, 11.1335511909308], ['10', '0', 12.2197663403852, 11.0197660251482], ['11', '0', 12.1694746694747, 14.8901658297527], ['12', '0', 21.4331388670804, 22.5971279952334]]\n"
     ]
    }
   ],
   "source": []
  },
  {
   "cell_type": "code",
   "execution_count": 26,
   "metadata": {
    "collapsed": false
   },
   "outputs": [
    {
     "data": {
      "text/html": [
       "<div id=\"ede517f9-e52d-4ed7-812d-02a9b962cbbe\" style=\"height: 525px; width: 100%;\" class=\"plotly-graph-div\"></div><script type=\"text/javascript\">require([\"plotly\"], function(Plotly) { window.PLOTLYENV=window.PLOTLYENV || {};window.PLOTLYENV.BASE_URL=\"https://plot.ly\";Plotly.newPlot(\"ede517f9-e52d-4ed7-812d-02a9b962cbbe\", [{\"type\": \"scatter\", \"mode\": \"markers\", \"y\": [122, 144, 518, 1524, 2424, 2874, 3022, 2852, 2722, 1822, 754, 54], \"x\": [70, 65, 60, 55, 50, 45, 40, 35, 30, 25, 20, 15]}, {\"type\": \"scatter\", \"mode\": \"markers\", \"y\": [118, 176, 548, 1704, 2708, 3036, 3132, 2830, 2832, 1838, 746, 60], \"x\": [70, 65, 60, 55, 50, 45, 40, 35, 30, 25, 20, 15]}, {\"type\": \"scatter\", \"mode\": \"markers\", \"y\": [134, 204, 640, 1916, 2760, 3278, 3302, 2910, 2832, 1908, 722, 58], \"x\": [70, 65, 60, 55, 50, 45, 40, 35, 30, 25, 20, 15]}, {\"type\": \"scatter\", \"mode\": \"markers\", \"y\": [144, 178, 782, 2088, 3020, 3304, 3390, 2980, 2798, 2082, 780, 46], \"x\": [70, 65, 60, 55, 50, 45, 40, 35, 30, 25, 20, 15]}, {\"type\": \"scatter\", \"mode\": \"markers\", \"y\": [164, 290, 978, 2284, 3280, 3504, 3618, 3420, 3124, 2088, 790, 50], \"x\": [70, 65, 60, 55, 50, 45, 40, 35, 30, 25, 20, 15]}, {\"type\": \"scatter\", \"mode\": \"markers\", \"y\": [216, 330, 1294, 2558, 3192, 3560, 3222, 3250, 2702, 1832, 396, 10], \"x\": [70, 65, 60, 55, 50, 45, 40, 35, 30, 25, 20, 15]}, {\"type\": \"scatter\", \"mode\": \"markers\", \"y\": [158, 376, 1364, 2568, 3184, 3372, 3092, 3200, 2588, 1844, 410, 8], \"x\": [70, 65, 60, 55, 50, 45, 40, 35, 30, 25, 20, 15]}, {\"type\": \"scatter\", \"mode\": \"markers\", \"y\": [148, 343, 899, 1535, 1816, 1785, 1633, 1529, 1352, 772, 125, 0], \"x\": [70, 65, 60, 55, 50, 45, 40, 35, 30, 25, 20, 15]}, {\"type\": \"scatter\", \"mode\": \"markers\", \"y\": [274, 603, 1754, 3014, 3793, 3570, 3660, 3302, 3007, 1936, 423, 9], \"x\": [70, 65, 60, 55, 50, 45, 40, 35, 30, 25, 20, 15]}, {\"type\": \"scatter\", \"mode\": \"markers\", \"y\": [318, 691, 1769, 3024, 3701, 3545, 3646, 3279, 3010, 1887, 352, 4], \"x\": [70, 65, 60, 55, 50, 45, 40, 35, 30, 25, 20, 15]}, {\"type\": \"scatter\", \"mode\": \"markers\", \"y\": [368, 683, 1810, 2944, 3697, 3430, 3553, 3359, 3002, 1773, 339, 7], \"x\": [70, 65, 60, 55, 50, 45, 40, 35, 30, 25, 20, 15]}], {}, {\"linkText\": \"Export to plot.ly\", \"showLink\": true})});</script>"
      ],
      "text/plain": [
       "<IPython.core.display.HTML object>"
      ]
     },
     "metadata": {},
     "output_type": "display_data"
    }
   ],
   "source": [
    "data = []\n",
    "for i in range(2004, 2015):\n",
    "    data.append({'x': df['age'],\n",
    "                'y': df['freq_{}'.format(i)],\n",
    "                'type': 'scatter',\n",
    "                'mode': 'markers'})\n",
    "# data_hist = Data(hist_plot)\n",
    "# fig_hist = Figure(data=data_hist)\n",
    "iplot(data, filename=\"freq_plot\")"
   ]
  },
  {
   "cell_type": "code",
   "execution_count": null,
   "metadata": {
    "collapsed": false
   },
   "outputs": [],
   "source": [
    "df = df.sort(['mag'], ascending=[0]);"
   ]
  },
  {
   "cell_type": "markdown",
   "metadata": {},
   "source": [
    "## Who negative gears the most, relative to their peers?"
   ]
  },
  {
   "cell_type": "code",
   "execution_count": 7,
   "metadata": {
    "collapsed": false
   },
   "outputs": [
    {
     "data": {
      "text/html": [
       "<iframe width=100% height=520 frameborder=0 src=https://andye.cartodb.com/viz/e44ac140-b8ad-11e4-b156-0e4fddd5de28/embed_map allowfullscreen webkitallowfullscreen mozallowfullscreen oallowfullscreen msallowfullscreen></iframe>"
      ],
      "text/plain": [
       "<IPython.core.display.HTML object>"
      ]
     },
     "execution_count": 7,
     "metadata": {},
     "output_type": "execute_result"
    }
   ],
   "source": [
    "from IPython.display import HTML\n",
    "HTML('<iframe width=100% height=520 frameborder=0 src=https://andye.cartodb.com/viz/e44ac140-b8ad-11e4-b156-0e4fddd5de28/embed_map allowfullscreen webkitallowfullscreen mozallowfullscreen oallowfullscreen msallowfullscreen></iframe>')"
   ]
  },
  {
   "cell_type": "markdown",
   "metadata": {},
   "source": [
    "## Is there any difference in the proportion of negative gearers between genders?"
   ]
  },
  {
   "cell_type": "code",
   "execution_count": null,
   "metadata": {
    "collapsed": true
   },
   "outputs": [],
   "source": []
  }
 ],
 "metadata": {
  "kernelspec": {
   "display_name": "Python 3",
   "language": "python",
   "name": "python3"
  },
  "language_info": {
   "codemirror_mode": {
    "name": "ipython",
    "version": 3
   },
   "file_extension": ".py",
   "mimetype": "text/x-python",
   "name": "python",
   "nbconvert_exporter": "python",
   "pygments_lexer": "ipython3",
   "version": "3.5.1"
  }
 },
 "nbformat": 4,
 "nbformat_minor": 0
}
